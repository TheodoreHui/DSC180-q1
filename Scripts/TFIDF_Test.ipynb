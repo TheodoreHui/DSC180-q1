{
 "cells": [
  {
   "cell_type": "code",
   "execution_count": 20,
   "id": "af950a01",
   "metadata": {},
   "outputs": [],
   "source": [
    "import TFIDF\n",
    "from sklearn.model_selection import train_test_split"
   ]
  },
  {
   "cell_type": "code",
   "execution_count": 21,
   "id": "549624aa",
   "metadata": {},
   "outputs": [],
   "source": [
    "tfidf_20 = TFIDF.TFIDFLabelGenerator()\n",
    "tfidf_nyt = TFIDF.TFIDFLabelGenerator()"
   ]
  },
  {
   "cell_type": "code",
   "execution_count": 12,
   "id": "a267a887",
   "metadata": {},
   "outputs": [
    {
     "name": "stderr",
     "output_type": "stream",
     "text": [
      "c:\\Users\\theod\\DSC180\\DSC180-q1\\Scripts\\TFIDF.py:44: FutureWarning: Passing literal json to 'read_json' is deprecated and will be removed in a future version. To read from a literal string, wrap it in a 'StringIO' object.\n",
      "  \n",
      "c:\\Users\\theod\\DSC180\\DSC180-q1\\Scripts\\TFIDF.py:44: FutureWarning: Passing literal json to 'read_json' is deprecated and will be removed in a future version. To read from a literal string, wrap it in a 'StringIO' object.\n",
      "  \n"
     ]
    }
   ],
   "source": [
    "data20 = tfidf_20.load_pickle('../TrainingData/20news/df20.pkl')\n",
    "seed20 = tfidf_20.load_json('../TrainingData/20news/seedwords.json')\n",
    "datanyt = tfidf_nyt.load_pickle('../TrainingData/nyt/dfnyt.pkl')\n",
    "seednyt = tfidf_nyt.load_json('../TrainingData/nyt/seedwords.json')"
   ]
  },
  {
   "cell_type": "code",
   "execution_count": 22,
   "id": "542f801f",
   "metadata": {},
   "outputs": [
    {
     "name": "stdout",
     "output_type": "stream",
     "text": [
      "Baseline Scores (20news): (0.49, 0.48)\n",
      "Recreated Scores (20news): (0.51, 0.51)\n",
      "\n",
      "Baseline Scores (NYT): (0.65, 0.58)\n",
      "Recreated Scores (NYT): (0.62, 0.84)\n"
     ]
    }
   ],
   "source": [
    "# Split the data into training and testing sets\n",
    "train_data20, test_data20 = train_test_split(data20, test_size=0.1)\n",
    "train_datanyt, test_datanyt = train_test_split(datanyt, test_size=0.1)\n",
    "\n",
    "tfidf_20.train(train_data20, seed20)\n",
    "tfidf_nyt.train(train_datanyt, seednyt)\n",
    "\n",
    "baseline_20 =  (0.49, 0.48)\n",
    "baseline_nyt = (0.65, 0.58)\n",
    "\n",
    "recreated_20 = tfidf_20.run_experiment(test_data20)\n",
    "recreated_nyt = tfidf_nyt.run_experiment(test_datanyt)\n",
    "\n",
    "print(\"Baseline Scores (20news):\", baseline_20)\n",
    "print(\"Recreated Scores (20news):\", (round(recreated_20[0],2), round(recreated_20[1],2)))\n",
    "\n",
    "print(\"\\nBaseline Scores (NYT):\", baseline_nyt)\n",
    "print(\"Recreated Scores (NYT):\", (round(recreated_nyt[0],2), round(recreated_nyt[1],2) ))\n"
   ]
  },
  {
   "cell_type": "code",
   "execution_count": null,
   "id": "9b8b8766",
   "metadata": {},
   "outputs": [],
   "source": []
  }
 ],
 "metadata": {
  "kernelspec": {
   "display_name": "Python 3 (ipykernel)",
   "language": "python",
   "name": "python3"
  },
  "language_info": {
   "codemirror_mode": {
    "name": "ipython",
    "version": 3
   },
   "file_extension": ".py",
   "mimetype": "text/x-python",
   "name": "python",
   "nbconvert_exporter": "python",
   "pygments_lexer": "ipython3",
   "version": "3.11.5"
  }
 },
 "nbformat": 4,
 "nbformat_minor": 5
}
