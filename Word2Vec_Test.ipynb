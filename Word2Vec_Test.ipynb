{
 "cells": [
  {
   "cell_type": "code",
   "execution_count": 60,
   "metadata": {},
   "outputs": [],
   "source": [
    "import Word2Vec\n",
    "from sklearn.model_selection import train_test_split"
   ]
  },
  {
   "cell_type": "code",
   "execution_count": 62,
   "metadata": {},
   "outputs": [],
   "source": [
    "# Create an instance of the Word2VecLabelGenerator class\n",
    "w2v_20 = Word2Vec.Word2VecLabelGenerator()\n",
    "w2v_nyt = Word2Vec.Word2VecLabelGenerator()"
   ]
  },
  {
   "cell_type": "code",
   "execution_count": null,
   "metadata": {},
   "outputs": [],
   "source": [
    "# Load and preprocess the data\n",
    "data20 = w2v_20.load_pickle('../TrainingData/20news/df20.pkl')\n",
    "datanyt = w2v_nyt.load_pickle('../TrainingData/nyt/dfnyt.pkl')\n",
    "seed20 = w2v_20.load_json('../TrainingData/20news/seedwords.json')\n",
    "seednyt = w2v_nyt.load_json('../TrainingData/nyt/seedwords.json')"
   ]
  },
  {
   "cell_type": "code",
   "execution_count": 63,
   "metadata": {},
   "outputs": [],
   "source": [
    "train_data20, test_data20 = train_test_split(data20, test_size=0.1)\n",
    "train_datanyt, test_datanyt = train_test_split(datanyt, test_size=0.1)"
   ]
  },
  {
   "cell_type": "code",
   "execution_count": 64,
   "metadata": {},
   "outputs": [],
   "source": [
    "# Train the model\n",
    "w2v_20.train_model(train_data20)\n",
    "w2v_20.seed_vectors(seed20)\n",
    "w2v_nyt.train_model(train_datanyt)\n",
    "w2v_nyt.seed_vectors(seednyt)"
   ]
  },
  {
   "cell_type": "code",
   "execution_count": 65,
   "metadata": {},
   "outputs": [
    {
     "name": "stdout",
     "output_type": "stream",
     "text": [
      "                        (Macro), (Micro)\n",
      "Baseline Scores (20news): (0.51, 0.45)\n",
      "Recreated Scores (20news): (0.62, 0.67)\n",
      "\n",
      "Baseline Scores (NYT): (0.92, 0.83)\n",
      "Recreated Scores (NYT): (0.63, 0.86)\n"
     ]
    }
   ],
   "source": [
    "# Run the experiment\n",
    "recreated_20 = w2v_20.run_experiment(test_data20)\n",
    "recreated_nyt = w2v_nyt.run_experiment(test_datanyt)\n",
    "\n",
    "baseline_20 =  (0.51, 0.45)\n",
    "baseline_nyt = (0.92, 0.83)\n",
    "\n",
    "print('                        (Macro), (Micro)')\n",
    "print(\"Baseline Scores (20news):\", baseline_20)\n",
    "print(\"Recreated Scores (20news):\", (round(recreated_20[0],2), round(recreated_20[1],2)))\n",
    "\n",
    "print(\"\\nBaseline Scores (NYT):\", baseline_nyt)\n",
    "print(\"Recreated Scores (NYT):\", (round(recreated_nyt[0],2), round(recreated_nyt[1],2) ))"
   ]
  }
 ],
 "metadata": {
  "kernelspec": {
   "display_name": "DSC180",
   "language": "python",
   "name": "python3"
  },
  "language_info": {
   "codemirror_mode": {
    "name": "ipython",
    "version": 3
   },
   "file_extension": ".py",
   "mimetype": "text/x-python",
   "name": "python",
   "nbconvert_exporter": "python",
   "pygments_lexer": "ipython3",
   "version": "3.11.5"
  }
 },
 "nbformat": 4,
 "nbformat_minor": 2
}
