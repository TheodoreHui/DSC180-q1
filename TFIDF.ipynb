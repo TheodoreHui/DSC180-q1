{
 "cells": [
  {
   "cell_type": "code",
   "execution_count": 1,
   "id": "bb8ae840",
   "metadata": {},
   "outputs": [
    {
     "name": "stderr",
     "output_type": "stream",
     "text": [
      "[nltk_data] Downloading package wordnet to\n",
      "[nltk_data]     C:\\Users\\theod\\AppData\\Roaming\\nltk_data...\n",
      "[nltk_data]   Package wordnet is already up-to-date!\n",
      "[nltk_data] Downloading package punkt to\n",
      "[nltk_data]     C:\\Users\\theod\\AppData\\Roaming\\nltk_data...\n",
      "[nltk_data]   Package punkt is already up-to-date!\n"
     ]
    },
    {
     "data": {
      "text/plain": [
       "True"
      ]
     },
     "execution_count": 1,
     "metadata": {},
     "output_type": "execute_result"
    }
   ],
   "source": [
    "import pickle\n",
    "import json\n",
    "import sys\n",
    "import numpy as np\n",
    "import pandas as pd\n",
    "from sklearn.feature_extraction.text import TfidfVectorizer\n",
    "from sklearn.metrics import f1_score\n",
    "from nltk.stem import WordNetLemmatizer\n",
    "from nltk.tokenize import word_tokenize\n",
    "import nltk\n",
    "nltk.download('wordnet')\n",
    "nltk.download('punkt')"
   ]
  },
  {
   "cell_type": "code",
   "execution_count": 2,
   "id": "cb47f4fc",
   "metadata": {},
   "outputs": [],
   "source": [
    "lem = WordNetLemmatizer()\n",
    "def lemmatize_sentence(sentence):\n",
    "    #Lemmatizing to simplify corpus\n",
    "    tokens = word_tokenize(sentence)\n",
    "    lemmatized_tokens = [lem.lemmatize(token) for token in tokens]\n",
    "    return ' '.join(lemmatized_tokens)"
   ]
  },
  {
   "cell_type": "code",
   "execution_count": 17,
   "id": "793e9007",
   "metadata": {},
   "outputs": [],
   "source": [
    "def load_pickle(path):\n",
    "    with open(path, 'rb') as file:\n",
    "        df =  pickle.load(file)\n",
    "        df['sentence'] = df['sentence'].apply(lemmatize_sentence)\n",
    "        return df\n",
    "def load_json(path):\n",
    "    with open(path, 'r') as file:\n",
    "        return pd.read_json(file.read()).map(lem.lemmatize)"
   ]
  },
  {
   "cell_type": "code",
   "execution_count": 18,
   "id": "a8648cc0",
   "metadata": {},
   "outputs": [
    {
     "name": "stderr",
     "output_type": "stream",
     "text": [
      "C:\\Users\\theod\\AppData\\Local\\Temp\\ipykernel_24872\\2228769954.py:8: FutureWarning: Passing literal json to 'read_json' is deprecated and will be removed in a future version. To read from a literal string, wrap it in a 'StringIO' object.\n",
      "  return pd.read_json(file.read()).map(lem.lemmatize)\n",
      "C:\\Users\\theod\\AppData\\Local\\Temp\\ipykernel_24872\\2228769954.py:8: FutureWarning: Passing literal json to 'read_json' is deprecated and will be removed in a future version. To read from a literal string, wrap it in a 'StringIO' object.\n",
      "  return pd.read_json(file.read()).map(lem.lemmatize)\n"
     ]
    }
   ],
   "source": [
    "data20 = load_pickle('TrainingData/20news/df20.pkl')\n",
    "datanyt = load_pickle('TrainingData/nyt/dfnyt.pkl')\n",
    "seed20 = load_json('TrainingData/20news/seedwords.json')\n",
    "seednyt = load_json('TrainingData/nyt/seedwords.json')"
   ]
  },
  {
   "cell_type": "code",
   "execution_count": 19,
   "id": "fe3f17f6",
   "metadata": {},
   "outputs": [],
   "source": [
    "def compute_relevance(document, ix, seed, tfidf, matrix):\n",
    "    #Helper function for label generator, takes in an individual document, index of said document in df, seed words, tfidf vectorizor and tfidf matrix of corpus\n",
    "\n",
    "    relevance = {label: 0 for label in seed.keys()}\n",
    "    relevance['na'] = sys.float_info.min\n",
    "    tokens = document.split()\n",
    "    \n",
    "    for label, words in seed.items():\n",
    "        for word in words:\n",
    "            if word in tokens:\n",
    "                index = tfidf.vocabulary_.get(word)\n",
    "                if index is not None:\n",
    "                    relevance[label] += matrix[ix, index]\n",
    "    return max(zip(relevance.values(), relevance.keys()))[1]"
   ]
  },
  {
   "cell_type": "code",
   "execution_count": 20,
   "id": "8cb09758",
   "metadata": {},
   "outputs": [],
   "source": [
    "def generate_labels_tfidf(df, seed):\n",
    "    #Takes pd df of data and dict of seedwords, returns a series of label predictions based on tfidf relevence of data on seedwords\n",
    "    #NOTE: returns 'na' values if no seedwords are found\n",
    "    tfidf = TfidfVectorizer()\n",
    "    matrix = tfidf.fit_transform(df['sentence'])\n",
    "    out = []\n",
    "    for index, row in df.iterrows():\n",
    "        out.append(compute_relevance(row['sentence'], index, seed, tfidf, matrix))\n",
    "    return pd.Series(out)"
   ]
  },
  {
   "cell_type": "code",
   "execution_count": 21,
   "id": "7bf0117d",
   "metadata": {},
   "outputs": [
    {
     "data": {
      "text/plain": [
       "0         rec\n",
       "1          na\n",
       "2        comp\n",
       "3        comp\n",
       "4          na\n",
       "         ... \n",
       "18254     sci\n",
       "18255    comp\n",
       "18256     rec\n",
       "18257    misc\n",
       "18258     soc\n",
       "Length: 18259, dtype: object"
      ]
     },
     "execution_count": 21,
     "metadata": {},
     "output_type": "execute_result"
    }
   ],
   "source": [
    "pred20 = generate_labels_tfidf(data20, seed20)\n",
    "prednyt = generate_labels_tfidf(datanyt, seednyt)\n",
    "pred20"
   ]
  },
  {
   "cell_type": "code",
   "execution_count": 22,
   "id": "5a6f763b",
   "metadata": {},
   "outputs": [],
   "source": [
    "def score(expt, pred):\n",
    "    return f1_score(expt, pred, average='macro'), f1_score(expt, pred, average='micro')"
   ]
  },
  {
   "cell_type": "code",
   "execution_count": 24,
   "id": "8c6c3ef5",
   "metadata": {},
   "outputs": [
    {
     "data": {
      "text/plain": [
       "((0.4830039874305079, 0.43315625171148475),\n",
       " (0.4791134690073362, 0.6198490500563894))"
      ]
     },
     "execution_count": 24,
     "metadata": {},
     "output_type": "execute_result"
    }
   ],
   "source": [
    "score(data20['label'], pred20), score(datanyt['label'], prednyt)"
   ]
  },
  {
   "cell_type": "code",
   "execution_count": 23,
   "id": "12e5ea5e",
   "metadata": {},
   "outputs": [
    {
     "data": {
      "text/plain": [
       "((0.41406641964259294, 0.3334246125198532),\n",
       " (0.48066425169992977, 0.5906133425869697))"
      ]
     },
     "execution_count": 23,
     "metadata": {},
     "output_type": "execute_result"
    }
   ],
   "source": [
    "((0.41406641964259294, 0.3334246125198532),\n",
    " (0.48066425169992977, 0.5906133425869697))"
   ]
  },
  {
   "cell_type": "code",
   "execution_count": 25,
   "id": "d34dae7d",
   "metadata": {},
   "outputs": [],
   "source": [
    "def impute(pred, trim = 0):\n",
    "    #imputes na labels by randomly selecting from found distribution, trimming bottom n categories if chosen\n",
    "    pred_label_dist = pred[pred != 'na'].value_counts()\n",
    "    if trim:\n",
    "        pred_label_dist = pred_label_dist[:-trim]\n",
    "    impute_na = lambda x:  np.random.choice(pred_label_dist.index, p=pred_label_dist.values/sum(pred_label_dist.values)) if x == 'na' else x\n",
    "    return pred.apply(impute_na)"
   ]
  },
  {
   "cell_type": "code",
   "execution_count": 39,
   "id": "eec99d69",
   "metadata": {},
   "outputs": [],
   "source": [
    "def tune_imputation(pred, data):\n",
    "    #automatically finds best impute trim level for highest f1 score\n",
    "    pred_labels = len(pred[pred != 'na'].unique())\n",
    "    scores = {}\n",
    "    for i in range(pred_labels):\n",
    "        scores[i] = score(impute(pred, i), data['label'])\n",
    "    #print(scores)\n",
    "    return  max(scores.items(), key=lambda x: sum(x[1]))"
   ]
  },
  {
   "cell_type": "code",
   "execution_count": 40,
   "id": "87ef3761",
   "metadata": {},
   "outputs": [
    {
     "data": {
      "text/plain": [
       "((4, (0.5396539348061802, 0.5398433649159319)),\n",
       " (4, (0.6052557279014772, 0.8353431074867702)))"
      ]
     },
     "execution_count": 40,
     "metadata": {},
     "output_type": "execute_result"
    }
   ],
   "source": [
    "tune_imputation(pred20, data20), tune_imputation(prednyt, datanyt)"
   ]
  },
  {
   "cell_type": "code",
   "execution_count": 32,
   "id": "d00eff46",
   "metadata": {},
   "outputs": [
    {
     "data": {
      "text/plain": [
       "{'20': (0.49, 0.48), 'nyt': (0.65, 0.58)}"
      ]
     },
     "execution_count": 32,
     "metadata": {},
     "output_type": "execute_result"
    }
   ],
   "source": [
    "baselines = {\n",
    "    '20' : (.49,.48),\n",
    "    'nyt': (.65, .58)\n",
    "}\n",
    "baselines"
   ]
  },
  {
   "cell_type": "code",
   "execution_count": null,
   "id": "df1fed5a",
   "metadata": {},
   "outputs": [],
   "source": []
  }
 ],
 "metadata": {
  "kernelspec": {
   "display_name": "Python 3 (ipykernel)",
   "language": "python",
   "name": "python3"
  },
  "language_info": {
   "codemirror_mode": {
    "name": "ipython",
    "version": 3
   },
   "file_extension": ".py",
   "mimetype": "text/x-python",
   "name": "python",
   "nbconvert_exporter": "python",
   "pygments_lexer": "ipython3",
   "version": "3.11.5"
  }
 },
 "nbformat": 4,
 "nbformat_minor": 5
}
